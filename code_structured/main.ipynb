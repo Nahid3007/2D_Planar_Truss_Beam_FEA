{
 "cells": [
  {
   "cell_type": "code",
   "execution_count": 1,
   "metadata": {},
   "outputs": [],
   "source": [
    "from parse_input import *\n",
    "from global_dof_mapping import *\n",
    "from assemble_global_stiffness_matrix import *\n",
    "from loads_and_bc import *\n",
    "from solve_structure_eq import *\n",
    "from postprocess_structural_results import *\n",
    "from write_results import *\n",
    "\n",
    "import sys\n",
    "import numpy as np\n",
    "\n",
    "\n",
    "if __name__ == '__main__':\n",
    "    \n",
    "    filename = 'ws_11_12.txt'\n",
    "    \n",
    "    # P A R S E  I N P U T  F I L E\n",
    "    nodes, elements, propRod, propBeam, load, spc = parseInputFile('../input_files/'+filename)\n",
    "    \n",
    "    # G L O B A L  D O F S\n",
    "    global_ndof = global_nodal_dofs(nodes, elements)\n",
    "    total_ndof = total_dof(global_ndof)\n",
    "    global_edof = global_element_dofs(nodes, elements, global_ndof)\n",
    "    \n",
    "    # A S S E M B L E  G L O B A L  S T I F F N E S S  M A T R I X\n",
    "    K = assemble_global_stiffness_matrix(nodes, elements, propRod, propBeam, total_ndof, global_edof)\n",
    "    \n",
    "    # S E T U P  A N D  S O L V E  S Y S T E M  O F  E Q U A T I O N\n",
    "    f, u, fixed_dof, freedofs, K_freedofs, f_bb = loads_and_bc(load, spc, total_ndof, global_ndof, K)\n",
    "    \n",
    "    u_freedofs = solve_structure_eq(f_bb, K_freedofs)\n",
    "    \n",
    "    # P O S T P R O C E S S  S T U C T U R A L  R E S U L T S\n",
    "    u, f_r, epsilon, sigma = postprocess_structural_results(f, u, u_freedofs, freedofs, global_edof, K, nodes, elements, propRod, propBeam)    \n",
    "\n",
    "    # W R I T E  O U T  R E S U L T S\n",
    "    write_results(u, f_r, epsilon, sigma, global_ndof, total_ndof, nodes, elements, filename)"
   ]
  },
  {
   "cell_type": "code",
   "execution_count": null,
   "metadata": {},
   "outputs": [],
   "source": []
  }
 ],
 "metadata": {
  "kernelspec": {
   "display_name": "Python 3 (ipykernel)",
   "language": "python",
   "name": "python3"
  },
  "language_info": {
   "codemirror_mode": {
    "name": "ipython",
    "version": 3
   },
   "file_extension": ".py",
   "mimetype": "text/x-python",
   "name": "python",
   "nbconvert_exporter": "python",
   "pygments_lexer": "ipython3",
   "version": "3.9.10+"
  }
 },
 "nbformat": 4,
 "nbformat_minor": 2
}
