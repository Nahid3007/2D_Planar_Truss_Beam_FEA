{
 "cells": [
  {
   "cell_type": "code",
   "execution_count": 2,
   "metadata": {},
   "outputs": [
    {
     "ename": "KeyError",
     "evalue": "1",
     "output_type": "error",
     "traceback": [
      "\u001b[1;31m---------------------------------------------------------------------------\u001b[0m",
      "\u001b[1;31mKeyError\u001b[0m                                  Traceback (most recent call last)",
      "\u001b[1;32m<ipython-input-2-f0b8ff982f58>\u001b[0m in \u001b[0;36m<module>\u001b[1;34m\u001b[0m\n\u001b[0;32m     24\u001b[0m \u001b[1;33m\u001b[0m\u001b[0m\n\u001b[0;32m     25\u001b[0m     \u001b[1;31m# A S S E M B L E  G L O B A L  S T I F F N E S S  M A T R I X\u001b[0m\u001b[1;33m\u001b[0m\u001b[1;33m\u001b[0m\u001b[1;33m\u001b[0m\u001b[0m\n\u001b[1;32m---> 26\u001b[1;33m     \u001b[0mK\u001b[0m \u001b[1;33m=\u001b[0m \u001b[0massemble_global_stiffness_matrix\u001b[0m\u001b[1;33m(\u001b[0m\u001b[0mnodes\u001b[0m\u001b[1;33m,\u001b[0m \u001b[0melements\u001b[0m\u001b[1;33m,\u001b[0m \u001b[0mpropRod\u001b[0m\u001b[1;33m,\u001b[0m \u001b[0mpropBeam\u001b[0m\u001b[1;33m,\u001b[0m \u001b[0mtotal_ndof\u001b[0m\u001b[1;33m,\u001b[0m \u001b[0mglobal_edof\u001b[0m\u001b[1;33m)\u001b[0m\u001b[1;33m\u001b[0m\u001b[1;33m\u001b[0m\u001b[0m\n\u001b[0m\u001b[0;32m     27\u001b[0m \u001b[1;33m\u001b[0m\u001b[0m\n\u001b[0;32m     28\u001b[0m     \u001b[1;31m# S E T U P  A N D  S O L V E  S Y S T E M  O F  E Q U A T I O N\u001b[0m\u001b[1;33m\u001b[0m\u001b[1;33m\u001b[0m\u001b[1;33m\u001b[0m\u001b[0m\n",
      "\u001b[1;32m~\\Desktop\\Python_1D_Solver\\code_structured\\assemble_global_stiffness_matrix.py\u001b[0m in \u001b[0;36massemble_global_stiffness_matrix\u001b[1;34m(nodes, elements, propRod, propBeam, total_ndof, global_edof)\u001b[0m\n\u001b[0;32m     28\u001b[0m \u001b[1;33m\u001b[0m\u001b[0m\n\u001b[0;32m     29\u001b[0m         \u001b[1;31m# Get element's stiffness matrix in global coordinates\u001b[0m\u001b[1;33m\u001b[0m\u001b[1;33m\u001b[0m\u001b[1;33m\u001b[0m\u001b[0m\n\u001b[1;32m---> 30\u001b[1;33m         \u001b[0mke_g\u001b[0m \u001b[1;33m=\u001b[0m \u001b[0melements\u001b[0m\u001b[1;33m[\u001b[0m\u001b[0meid\u001b[0m\u001b[1;33m]\u001b[0m\u001b[1;33m.\u001b[0m\u001b[0mstiffnessMatrix\u001b[0m\u001b[1;33m(\u001b[0m\u001b[0melements\u001b[0m\u001b[1;33m,\u001b[0m \u001b[0meid\u001b[0m\u001b[1;33m,\u001b[0m \u001b[0mnodes\u001b[0m\u001b[1;33m,\u001b[0m \u001b[0mpropRod\u001b[0m\u001b[1;33m,\u001b[0m \u001b[0mpropBeam\u001b[0m\u001b[1;33m)\u001b[0m\u001b[1;33m\u001b[0m\u001b[1;33m\u001b[0m\u001b[0m\n\u001b[0m\u001b[0;32m     31\u001b[0m \u001b[1;33m\u001b[0m\u001b[0m\n\u001b[0;32m     32\u001b[0m         \u001b[0mglobalDofList\u001b[0m \u001b[1;33m=\u001b[0m \u001b[1;33m[\u001b[0m\u001b[1;33m]\u001b[0m\u001b[1;33m\u001b[0m\u001b[1;33m\u001b[0m\u001b[0m\n",
      "\u001b[1;32m~\\Desktop\\Python_1D_Solver\\code_structured\\fe_classes.py\u001b[0m in \u001b[0;36mstiffnessMatrix\u001b[1;34m(self, elements, eid, nodes, propRod, propBeam)\u001b[0m\n\u001b[0;32m     82\u001b[0m         \u001b[1;31m# beam element\u001b[0m\u001b[1;33m\u001b[0m\u001b[1;33m\u001b[0m\u001b[1;33m\u001b[0m\u001b[0m\n\u001b[0;32m     83\u001b[0m         \u001b[1;32melif\u001b[0m \u001b[0melements\u001b[0m\u001b[1;33m[\u001b[0m\u001b[0meid\u001b[0m\u001b[1;33m]\u001b[0m\u001b[1;33m.\u001b[0m\u001b[0melem_type\u001b[0m \u001b[1;33m==\u001b[0m \u001b[1;34m'beam'\u001b[0m\u001b[1;33m:\u001b[0m\u001b[1;33m\u001b[0m\u001b[1;33m\u001b[0m\u001b[0m\n\u001b[1;32m---> 84\u001b[1;33m             \u001b[0mE\u001b[0m \u001b[1;33m=\u001b[0m \u001b[0mpropBeam\u001b[0m\u001b[1;33m[\u001b[0m\u001b[0meid\u001b[0m\u001b[1;33m]\u001b[0m\u001b[1;33m.\u001b[0m\u001b[0mE\u001b[0m\u001b[1;33m\u001b[0m\u001b[1;33m\u001b[0m\u001b[0m\n\u001b[0m\u001b[0;32m     85\u001b[0m             \u001b[0mA\u001b[0m \u001b[1;33m=\u001b[0m \u001b[0mpropBeam\u001b[0m\u001b[1;33m[\u001b[0m\u001b[0meid\u001b[0m\u001b[1;33m]\u001b[0m\u001b[1;33m.\u001b[0m\u001b[0mA\u001b[0m\u001b[1;33m\u001b[0m\u001b[1;33m\u001b[0m\u001b[0m\n\u001b[0;32m     86\u001b[0m             \u001b[0mI\u001b[0m \u001b[1;33m=\u001b[0m \u001b[0mpropBeam\u001b[0m\u001b[1;33m[\u001b[0m\u001b[0meid\u001b[0m\u001b[1;33m]\u001b[0m\u001b[1;33m.\u001b[0m\u001b[0mI\u001b[0m\u001b[1;33m\u001b[0m\u001b[1;33m\u001b[0m\u001b[0m\n",
      "\u001b[1;31mKeyError\u001b[0m: 1"
     ]
    }
   ],
   "source": [
    "from parse_input import *\n",
    "from global_dof_mapping import *\n",
    "from assemble_global_stiffness_matrix import *\n",
    "from loads_and_bc import *\n",
    "from solve_structure_eq import *\n",
    "from postprocess_structural_results import *\n",
    "from write_results import *\n",
    "\n",
    "import sys\n",
    "import numpy as np\n",
    "\n",
    "\n",
    "if __name__ == '__main__':\n",
    "    \n",
    "    filename = 'ss_09.txt'\n",
    "    \n",
    "    # P A R S E  I N P U T  F I L E\n",
    "    nodes, elements, propRod, propBeam, load, spc = parseInputFile('../input_files/'+filename)\n",
    "    \n",
    "    # G L O B A L  D O F S\n",
    "    global_ndof = global_nodal_dofs(nodes, elements)\n",
    "    total_ndof = total_dof(global_ndof)\n",
    "    global_edof = global_element_dofs(nodes, elements, global_ndof)\n",
    "    \n",
    "    # A S S E M B L E  G L O B A L  S T I F F N E S S  M A T R I X\n",
    "    K = assemble_global_stiffness_matrix(nodes, elements, propRod, propBeam, total_ndof, global_edof)\n",
    "    \n",
    "    # S E T U P  A N D  S O L V E  S Y S T E M  O F  E Q U A T I O N\n",
    "    f, u, fixed_dof, freedofs, K_freedofs, f_bb = loads_and_bc(load, spc, total_ndof, global_ndof, K)\n",
    "    \n",
    "    u_freedofs = solve_structure_eq(f_bb, K_freedofs)\n",
    "    \n",
    "    # P O S T P R O C E S S  S T U C T U R A L  R E S U L T S\n",
    "    u, f_r, epsilon, sigma = postprocess_structural_results(f, u, u_freedofs, freedofs, global_edof, K, nodes, elements, propRod, propBeam)    \n",
    "\n",
    "    # W R I T E  O U T  R E S U L T S\n",
    "    # write_results(u, f_r, epsilon, sigma, global_ndof, total_ndof, nodes, elements, filename)"
   ]
  },
  {
   "cell_type": "code",
   "execution_count": null,
   "metadata": {},
   "outputs": [],
   "source": []
  }
 ],
 "metadata": {
  "kernelspec": {
   "display_name": "Python 3",
   "language": "python",
   "name": "python3"
  },
  "language_info": {
   "codemirror_mode": {
    "name": "ipython",
    "version": 3
   },
   "file_extension": ".py",
   "mimetype": "text/x-python",
   "name": "python",
   "nbconvert_exporter": "python",
   "pygments_lexer": "ipython3",
   "version": "3.8.8"
  }
 },
 "nbformat": 4,
 "nbformat_minor": 2
}
