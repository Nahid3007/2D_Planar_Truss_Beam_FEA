{
 "cells": [
  {
   "cell_type": "code",
   "execution_count": 22,
   "metadata": {
    "scrolled": false
   },
   "outputs": [
    {
     "name": "stdout",
     "output_type": "stream",
     "text": [
      "Done. FE model exported to ../input_files/ss_09_FE_Model.png .\n"
     ]
    },
    {
     "data": {
      "image/png": "[encoded data removed]",
      "text/plain": [
       "<Figure size 432x288 with 1 Axes>"
      ]
     },
     "metadata": {
      "needs_background": "light"
     },
     "output_type": "display_data"
    }
   ],
   "source": [
    "from parse_input import *\n",
    "\n",
    "import sys\n",
    "import numpy as np\n",
    "import matplotlib.pyplot as plt\n",
    "import matplotlib.patches as patches\n",
    "\n",
    "\n",
    "if __name__ == '__main__':\n",
    "    \n",
    "    # filename = 'ss_10.txt'\n",
    "    # filename = 'ws_09_10.txt'\n",
    "    # filename = 'ws_11_12.txt'\n",
    "    filename = 'ss_09.txt'\n",
    "    \n",
    "    # P A R S E  I N P U T  F I L E\n",
    "    nodes, elements, propRod, propBeam, load, spc = parseInputFile('../input_files/'+filename)\n",
    "    \n",
    "    el_length = []\n",
    "    for eid in sorted(elements.keys()):\n",
    "        # print(eid, elements[eid].elem_type, elements[eid].n1, elements[eid].n2)\n",
    "        \n",
    "        e_length = elements[eid].length(nodes)\n",
    "        el_length.append(e_length)\n",
    "        \n",
    "        n1x = nodes[elements[eid].n1].x\n",
    "        n1y = nodes[elements[eid].n1].y\n",
    "        \n",
    "        n2x = nodes[elements[eid].n2].x\n",
    "        n2y = nodes[elements[eid].n2].y\n",
    "        \n",
    "        # print(n1x, n1y, n2x, n2y)\n",
    "   \n",
    "        dx = (n1x + n2x)/2 # Mid position x of element\n",
    "        dy = (n1y + n2y)/2 # Mid position y of element\n",
    "        \n",
    "        if elements[eid].elem_type == 'beam':\n",
    "            elemWidth = 2.5\n",
    "        else:\n",
    "            elemWidth = 1\n",
    "\n",
    "        plt.plot( [n1x,n2x],[n1y,n2y], linestyle='-', color='#808080', linewidth=elemWidth)\n",
    "        plt.plot( [n1x,n2x],[n1y,n2y], marker='o', color='#F97306', markersize=5, linestyle='None')\n",
    "        \n",
    "        plt.annotate(str(int(elements[eid].n1)), (n1x,n1y), textcoords='offset points', xytext=(10,5), ha='right', fontsize = 12, color='black')\n",
    "        plt.annotate(str(int(elements[eid].n2)), (n2x,n2y), textcoords='offset points', xytext=(10,5), ha='right', fontsize = 12, color='black')\n",
    "        \n",
    "        plt.annotate(str(int(eid)),(dx,dy), ha='center',fontsize = 12, color='#380282')\n",
    "        \n",
    "        plt.axis('equal')\n",
    "        #plt.axis('off')\n",
    "    \n",
    "    # Plot applied forces\n",
    "    \n",
    "    kwPos = dict(arrowstyle=\"-|>, head_length=6, head_width=3\", color=\"g\")\n",
    "    kwNeg = dict(arrowstyle=\"<|-, head_length=6, head_width=3\", color=\"g\")\n",
    "\n",
    "    for nid in sorted(load.keys()):\n",
    "        for i in range(len(load[nid])):\n",
    "            \n",
    "            scale = max(el_length)*0.2\n",
    "            \n",
    "            # print(nid, load[nid][i].local_dof, load[nid][i].value, scale )\n",
    "            \n",
    "            # Plot Moments\n",
    "            if load[nid][i].local_dof == 3 and load[nid][i].value > 0:\n",
    "                a3 = patches.FancyArrowPatch((nodes[int(nid)].x, nodes[int(nid)].y+scale), (nodes[int(nid)].x, nodes[int(nid)].y-scale), connectionstyle=\"arc3,rad=.4\", **kwPos)\n",
    "                plt.gca().add_patch(a3)\n",
    "                plt.annotate(str(load[nid][i].value), (nodes[int(nid)].x,nodes[int(nid)].y), textcoords='offset points', xytext=(-15,5), ha='right', fontsize = 12, color='g')\n",
    "            elif load[nid][i].local_dof == 3 and load[nid][i].value < 0:\n",
    "                a3 = patches.FancyArrowPatch((nodes[int(nid)].x, nodes[int(nid)].y+scale), (nodes[int(nid)].x, nodes[int(nid)].y-scale), connectionstyle=\"arc3,rad=.4\", **kwNeg)\n",
    "                plt.gca().add_patch(a3)\n",
    "                plt.annotate(str(load[nid][i].value), (nodes[int(nid)].x,nodes[int(nid)].y), textcoords='offset points', xytext=(-15,5), ha='right', fontsize = 12, color='g')\n",
    "            # Plot Forces\n",
    "            elif load[nid][i].local_dof == 1 and load[nid][i].value < 0:    \n",
    "                plt.arrow( nodes[int(nid)].x, nodes[int(nid)].y, -scale, 0, fc=\"g\", ec=\"g\", head_width=50, head_length=50 )\n",
    "                plt.annotate(str(load[nid][i].value), (nodes[int(nid)].x,nodes[int(nid)].y), textcoords='offset points', xytext=(-5,5), ha='right', fontsize = 12, color='g')\n",
    "            elif load[nid][i].local_dof == 1 and load[nid][i].value > 0:    \n",
    "                plt.arrow( nodes[int(nid)].x, nodes[int(nid)].y, scale, 0, fc=\"g\", ec=\"g\", head_width=50, head_length=50 )\n",
    "                plt.annotate(str(load[nid][i].value), (nodes[int(nid)].x,nodes[int(nid)].y), textcoords='offset points', xytext=(40,5), ha='right', fontsize = 12, color='g')\n",
    "            elif load[nid][i].local_dof == 2 and load[nid][i].value < 0:    \n",
    "                plt.arrow( nodes[int(nid)].x, nodes[int(nid)].y, 0, -scale, fc=\"g\", ec=\"g\", head_width=50, head_length=50 )\n",
    "                plt.annotate(str(load[nid][i].value), (nodes[int(nid)].x,nodes[int(nid)].y), textcoords='offset points', xytext=(-5,-20), ha='right', fontsize = 12, color='g')\n",
    "            elif load[nid][i].local_dof == 2 and load[nid][i].value > 0:    \n",
    "                plt.arrow( nodes[int(nid)].x, nodes[int(nid)].y, 0, scale, fc=\"g\", ec=\"g\", head_width=50, head_length=50 )\n",
    "                plt.annotate(str(load[nid][i].value), (nodes[int(nid)].x,nodes[int(nid)].y), textcoords='offset points', xytext=(-5,20), ha='right', fontsize = 12, color='g')\n",
    "    \n",
    "    # Plot constraints    \n",
    "    for nid in sorted(spc.keys()):\n",
    "        for i in range(len(spc[nid])):\n",
    "            \n",
    "            # print(nid, spc[nid][i].fixed_local_dof, spc[nid][i].value)\n",
    "            \n",
    "            if len(spc[nid][i].fixed_local_dof) == 3:\n",
    "                # print(nodes[int(nid)].x, nodes[int(nid)].y)\n",
    "                plt.plot( [nodes[int(nid)].x],[nodes[int(nid)].y], marker='s', markersize= 10, fillstyle='full', color='b')\n",
    "            elif len(spc[nid][i].fixed_local_dof) == 2:\n",
    "                # print(nodes[int(nid)].x, nodes[int(nid)].y)\n",
    "                plt.plot( [nodes[int(nid)].x],[nodes[int(nid)].y], marker=6, markersize= 12, fillstyle='full', color='b')\n",
    "                plt.plot( [nodes[int(nid)].x],[nodes[int(nid)].y], marker=5, markersize= 12, fillstyle='full', color='b')\n",
    "            else:\n",
    "                # print(nodes[int(nid)].x, nodes[int(nid)].y, spc[nid][i].fixed_local_dof, spc[nid][i].value)\n",
    "                if spc[nid][i].fixed_local_dof[0] == 1 and spc[nid][i].value == 0:\n",
    "                    plt.plot( [nodes[int(nid)].x],[nodes[int(nid)].y], marker=5, markersize= 12, fillstyle='full', color='b')\n",
    "                elif spc[nid][i].fixed_local_dof[0] == 1 and spc[nid][i].value != 0:\n",
    "                    plt.plot( [nodes[int(nid)].x],[nodes[int(nid)].y], marker=5, markersize= 12, fillstyle='full', color='g')\n",
    "                elif spc[nid][i].fixed_local_dof[0] == 2 and spc[nid][i].value == 0:\n",
    "                    plt.plot( [nodes[int(nid)].x],[nodes[int(nid)].y], marker=6, markersize= 12, fillstyle='full', color='b')\n",
    "                elif spc[nid][i].fixed_local_dof[0] == 2 and spc[nid][i].value != 0:\n",
    "                    plt.plot( [nodes[int(nid)].x],[nodes[int(nid)].y], marker=6, markersize= 12, fillstyle='full', color='g')\n",
    "                    plt.annotate(str(spc[nid][i].value), (nodes[int(nid)].x,nodes[int(nid)].y), textcoords='offset points', xytext=(0,-20), ha='left', fontsize = 12, color='g')\n",
    "    \n",
    "    fig_fem_model_input = filename.replace('.txt','')+'_FE_Model.png'\n",
    "    output_path = '../input_files/'+fig_fem_model_input\n",
    "    plt.savefig(output_path, dpi = 200)\n",
    "    \n",
    "    print(f'Done. FE model exported to {output_path} .')"
   ]
  },
  {
   "cell_type": "code",
   "execution_count": null,
   "metadata": {},
   "outputs": [],
   "source": []
  }
 ],
 "metadata": {
  "kernelspec": {
   "display_name": "Python 3",
   "language": "python",
   "name": "python3"
  },
  "language_info": {
   "codemirror_mode": {
    "name": "ipython",
    "version": 3
   },
   "file_extension": ".py",
   "mimetype": "text/x-python",
   "name": "python",
   "nbconvert_exporter": "python",
   "pygments_lexer": "ipython3",
   "version": "3.8.8"
  }
 },
 "nbformat": 4,
 "nbformat_minor": 2
}
