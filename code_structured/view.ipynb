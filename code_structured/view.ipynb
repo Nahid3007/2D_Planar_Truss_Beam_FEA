{
 "cells": [
  {
   "cell_type": "code",
   "execution_count": 10,
   "metadata": {
    "scrolled": false
   },
   "outputs": [
    {
     "name": "stdout",
     "output_type": "stream",
     "text": [
      "1 [1 2 3] 0.0\n",
      "0.0 0.0\n",
      "2 [2] 1.0\n",
      "750.0 0.0\n",
      "4 [1 2] 0.0\n",
      "1250.0 -366.0254\n"
     ]
    },
    {
     "data": {
      "image/png": "[encoded data removed]",
      "text/plain": [
       "<Figure size 432x288 with 1 Axes>"
      ]
     },
     "metadata": {
      "needs_background": "light"
     },
     "output_type": "display_data"
    }
   ],
   "source": [
    "from parse_input import *\n",
    "\n",
    "import sys\n",
    "import numpy as np\n",
    "import matplotlib.pyplot as plt\n",
    "\n",
    "if __name__ == '__main__':\n",
    "    \n",
    "    filename = 'ws_11_12.txt'\n",
    "    \n",
    "    # P A R S E  I N P U T  F I L E\n",
    "    nodes, elements, propRod, propBeam, load, spc = parseInputFile('../input_files/'+filename)\n",
    "          \n",
    "    for eid in sorted(elements.keys()):\n",
    "        #print(eid, elements[eid].elem_type)\n",
    "        \n",
    "        n1x = nodes[elements[eid].n1].x\n",
    "        n1y = nodes[elements[eid].n1].y\n",
    "        \n",
    "        n2x = nodes[elements[eid].n1 + 1].x\n",
    "        n2y = nodes[elements[eid].n1 + 1].y\n",
    "        \n",
    "        dx = (n1x + n2x)/2 # Mid position x of element\n",
    "        dy = (n1y + n2y)/2 # Mid position y of element\n",
    "        \n",
    "        if elements[eid].elem_type == 'beam':\n",
    "            elemWidth = 2\n",
    "        else:\n",
    "            elemWidth = 1\n",
    "\n",
    "        plt.plot( [n1x,n2x],[n1y,n2y], linestyle='-', color='#808080', linewidth=elemWidth)\n",
    "        plt.plot( [n1x,n2x],[n1y,n2y], marker='o', color='#F97306', markersize=3, linestyle='None')\n",
    "        \n",
    "        plt.annotate(str(int(elements[eid].n1)), (n1x,n1y), textcoords='offset points', xytext=(10,5), ha='right', fontsize = 12, color='black')\n",
    "        plt.annotate(str(int(elements[eid].n2)), (n2x,n2y), textcoords='offset points', xytext=(10,5), ha='right', fontsize = 12, color='black')\n",
    "        \n",
    "        plt.annotate(str(int(eid)),(dx,dy), ha='center',fontsize = 12, color='#380282')\n",
    "        \n",
    "        plt.axis('equal')\n",
    "        \n",
    "    for nid in sorted(spc.keys()):\n",
    "        for i in range(len(spc[nid])):\n",
    "            print(nid, spc[nid][i].fixed_local_dof, spc[nid][i].value)\n",
    "            if len(spc[nid][i].fixed_local_dof) == 3:\n",
    "                print(nodes[int(nid)].x, nodes[int(nid)].y)\n",
    "                plt.plot( [nodes[int(nid)].x],[nodes[int(nid)].y], marker='s', color='k')\n",
    "            elif len(spc[nid][i].fixed_local_dof) == 2:\n",
    "                print(nodes[int(nid)].x, nodes[int(nid)].y)\n",
    "                plt.plot( [nodes[int(nid)].x],[nodes[int(nid)].y+(nodes[int(nid)].y*0.1)], marker='^', color='k',markersize=8)\n",
    "                plt.plot( [nodes[int(nid)].x-(nodes[int(nid)].x*0.03)],[nodes[int(nid)].y], marker='>', color='k',markersize=8)\n",
    "            else:\n",
    "                print(nodes[int(nid)].x, nodes[int(nid)].y)\n",
    "                if spc[nid][i].fixed_local_dof[0] == 1:\n",
    "                    plt.plot( [nodes[int(nid)].x-(nodes[int(nid)].x*0.03)],[nodes[int(nid)].y], marker='>', color='k',markersize=8)\n",
    "                if spc[nid][i].fixed_local_dof[0] == 2:\n",
    "                    plt.plot( [nodes[int(nid)].x],[nodes[int(nid)].y-30], marker='^', color='k',markersize=8)"
   ]
  },
  {
   "cell_type": "code",
   "execution_count": null,
   "metadata": {},
   "outputs": [],
   "source": []
  }
 ],
 "metadata": {
  "kernelspec": {
   "display_name": "Python 3 (ipykernel)",
   "language": "python",
   "name": "python3"
  },
  "language_info": {
   "codemirror_mode": {
    "name": "ipython",
    "version": 3
   },
   "file_extension": ".py",
   "mimetype": "text/x-python",
   "name": "python",
   "nbconvert_exporter": "python",
   "pygments_lexer": "ipython3",
   "version": "3.9.10+"
  }
 },
 "nbformat": 4,
 "nbformat_minor": 2
}
